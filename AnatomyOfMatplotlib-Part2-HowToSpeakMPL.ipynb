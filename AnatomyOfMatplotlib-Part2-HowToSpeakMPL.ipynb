{
 "cells": [
  {
   "cell_type": "code",
   "execution_count": null,
   "metadata": {
    "collapsed": false
   },
   "outputs": [],
   "source": [
    "# Let printing work the same in Python 2 and 3\n",
    "from __future__ import print_function\n",
    "# Turning on inline plots -- just for use in ipython notebooks.\n",
    "%matplotlib inline\n",
    "import numpy as np\n",
    "import matplotlib.pyplot as plt"
   ]
  },
  {
   "cell_type": "markdown",
   "metadata": {},
   "source": [
    "# How to speak \"MPL\"\n",
    "In the previous part, you learned how matplotlib organizes plot-making by figures and axes. We broke down the components of a basic figure and learned how to create them. You also learned how to add one or more axes to a figure, and how to tie them together. You even learned how to change some of the basic appearances of the axes. Finally, we went over some of the many kinds of figures that matplotlib can generate. With all that knowledge, you should be off making great and wonderful figures. Why are you still here?\n",
    "\n",
    "\"We don't know how to control our plots and figures!\" says some random voice in the back of the room.\n",
    "\n",
    "Of course! While the previous section may have taught you some of the structure and syntax of matplotlib, it did not describe much of the substance and vocabulary of the library. This section will go over many of the properties that are used throughout the library. Note that while many of the examples in this section may show one way of setting a particular property, that property may be applicible elsewhere in completely different context. This is the \"language\" of matplotlib.\n",
    "\n",
    "# Colors\n",
    "This is, perhaps, the most important piece of vocabulary in matplotlib. Given that matplotlib is a plotting library, colors are associated with everything that is plotted in your figures. Matplotlib supports a [very robust language](http://matplotlib.org/api/colors_api.html#module-matplotlib.colors) for specifying colors that should be familiar to a wide variety of users.\n",
    "\n",
    "### Colornames\n",
    "First, colors can be given as strings. For very basic colors, you can even get away with just a single letter:\n",
    "\n",
    "- b: blue\n",
    "- g: green\n",
    "- r: red\n",
    "- c: cyan\n",
    "- m: magenta\n",
    "- y: yellow\n",
    "- k: black\n",
    "- w: white\n",
    "\n",
    "Other colornames that are allowed are the HTML/CSS colornames such as \"burlywood\" and \"chartreuse\" are valid. See the [full list](http://www.w3schools.com/html/html_colornames.asp) of the 147 colornames. For the British speaking and poor spellers among us (Note, I am not implying that British speakers are poor spellers!), we allow \"grey\" where-ever \"gray\" appears in that list of colornames. All of these colornames are case-insensitive.\n",
    "\n",
    "### Hex values\n",
    "Colors can also be specified by supplying an HTML/CSS hex string, such as `'#0000FF'` for blue.\n",
    "\n",
    "### 256 Shades of Gray\n",
    "A gray level can be given instead of a color by passing a string representation of a number between 0 and 1, inclusive. `'0.0'` is black, while `'1.0'` is white. `'0.75'` would be a lighter shade of gray.\n",
    "\n",
    "### RGB[A] tuples\n",
    "You may come upon instances where the previous ways of specifying colors do not work. This can sometimes happen in some of the deeper, stranger levels of the code. When all else fails, the universal language of colors for matplotlib is the RGB[A] tuple. This is the \"Red\", \"Green\", \"Blue\", and sometimes \"Alpha\" tuple of floats in the range of [0, 1]. One means full saturation of that channel, so a red RGBA tuple would be `(1.0, 0.0, 0.0, 1.0)`, whereas a partly transparent green RGBA tuple would be `(0.0, 1.0, 0.0, 0.75)`.  The documentation will usually specify whether it accepts RGB or RGBA tuples. Sometimes, a list of tuples would be required for multiple colors, and you can even supply a Nx3 or Nx4 numpy array in such cases.\n",
    "\n",
    "In functions such as `plot()` and `scatter()`, while it may appear that they can take a color specification, what they really need is a \"format specification\", which includes color as part of the format. Unfortunately, such specifications are string only and so RGB[A] tuples are not supported for such arguments (but you can still pass an RGB[A] tuple for a \"color\" argument).\n",
    "\n",
    "Note, oftentimes there is a separate argument for \"alpha\" where-ever you can specify a color. The value for \"alpha\" will usually take precedence over the alpha value in the RGBA tuple. There is no easy way around this problem.\n"
   ]
  },
  {
   "cell_type": "markdown",
   "metadata": {},
   "source": [
    "## Exercise 2.1\n",
    "Try out some different string representations of colors (you can't do RGB[A] tuples here)."
   ]
  },
  {
   "cell_type": "code",
   "execution_count": null,
   "metadata": {
    "collapsed": false
   },
   "outputs": [],
   "source": [
    "# %load exercises/2.1-colors.py\n",
    "t = np.arange(0.0, 5.0, 0.2)\n",
    "plt.plot(t, t, , t, t**2, , t, t**3, )\n",
    "plt.show()\n"
   ]
  },
  {
   "cell_type": "markdown",
   "metadata": {},
   "source": [
    "# Markers\n",
    "[Markers](http://matplotlib.org/api/markers_api.html) are commonly used in [`plot()`](http://matplotlib.org/api/pyplot_api.html#matplotlib.pyplot.plot) and [`scatter()`](http://matplotlib.org/api/pyplot_api.html#matplotlib.pyplot.scatter) plots, but also show up elsewhere. There is a wide set of markers available, and custom markers can even be specified.\n",
    "\n",
    "marker     |  description  ||marker    |  description  ||marker    |  description  ||marker    |  description  \n",
    ":----------|:--------------||:---------|:--------------||:---------|:--------------||:---------|:--------------\n",
    "\".\"        |  point        ||\"+\"       |  plus         ||\",\"       |  pixel        ||\"x\"       |  cross\n",
    "\"o\"        |  circle       ||\"D\"       |  diamond      ||\"d\"       |  thin_diamond ||          |\n",
    "\"8\"        |  octagon      ||\"s\"       |  square       ||\"p\"       |  pentagon     ||\"\\*\"      |  star\n",
    "\"&#124;\"   |  vertical line||\"\\_\"      | horizontal line ||\"h\"     |  hexagon1     ||\"H\"       |  hexagon2\n",
    "0          |  tickleft     ||4         |  caretleft    ||\"<\"       | triangle_left ||\"3\"       |  tri_left\n",
    "1          |  tickright    ||5         |  caretright   ||\">\"       | triangle_right||\"4\"       |  tri_right\n",
    "2          |  tickup       ||6         |  caretup      ||\"^\"       | triangle_up   ||\"2\"       |  tri_up\n",
    "3          |  tickdown     ||7         |  caretdown    ||\"v\"       | triangle_down ||\"1\"       |  tri_down\n",
    "\"None\"     |  nothing      ||`None`    |  nothing      ||\" \"       |  nothing      ||\"\"        |  nothing"
   ]
  },
  {
   "cell_type": "code",
   "execution_count": null,
   "metadata": {
    "collapsed": false
   },
   "outputs": [],
   "source": [
    "xs, ys = np.mgrid[:4, 9:0:-1]\n",
    "markers = [\".\", \"+\", \",\", \"x\", \"o\", \"D\", \"d\", \"\", \"8\", \"s\", \"p\", \"*\", \"|\", \"_\", \"h\", \"H\", 0, 4, \"<\", \"3\",\n",
    "           1, 5, \">\", \"4\", 2, 6, \"^\", \"2\", 3, 7, \"v\", \"1\", \"None\", None, \" \", \"\"]\n",
    "descripts = [\"point\", \"plus\", \"pixel\", \"cross\", \"circle\", \"diamond\", \"thin diamond\", \"\",\n",
    "             \"octagon\", \"square\", \"pentagon\", \"star\", \"vertical bar\", \"horizontal bar\", \"hexagon 1\", \"hexagon 2\",\n",
    "             \"tick left\", \"caret left\", \"triangle left\", \"tri left\", \"tick right\", \"caret right\", \"triangle right\", \"tri right\",\n",
    "             \"tick up\", \"caret up\", \"triangle up\", \"tri up\", \"tick down\", \"caret down\", \"triangle down\", \"tri down\",\n",
    "             \"Nothing\", \"Nothing\", \"Nothing\", \"Nothing\"]\n",
    "fig, ax = plt.subplots(1, 1, figsize=(14, 4))\n",
    "for x, y, m, d in zip(xs.T.flat, ys.T.flat, markers, descripts):\n",
    "    ax.scatter(x, y, marker=m, s=100)\n",
    "    ax.text(x + 0.1, y - 0.1, d, size=14)\n",
    "ax.set_axis_off()\n",
    "plt.show()"
   ]
  },
  {
   "cell_type": "markdown",
   "metadata": {},
   "source": [
    "## Exercise 2.2\n",
    "Try out some different markers and colors"
   ]
  },
  {
   "cell_type": "code",
   "execution_count": null,
   "metadata": {
    "collapsed": false
   },
   "outputs": [],
   "source": [
    "%load exercises/2.2-markers.py"
   ]
  },
  {
   "cell_type": "markdown",
   "metadata": {},
   "source": [
    "# Linestyles\n",
    "Line styles are about as commonly used as colors. There are a few predefined linestyles available to use. Note that there are some advanced techniques to specify some custom line styles. [Here](http://matplotlib.org/1.3.0/examples/lines_bars_and_markers/line_demo_dash_control.html) is an example of a custom dash pattern.\n",
    "\n",
    "linestyle          | description\n",
    "-------------------|------------------------------\n",
    "'-'                | solid\n",
    "'--'               | dashed\n",
    "'-.'               | dashdot\n",
    "':'                | dotted\n",
    "'None'             | draw nothing\n",
    "' '                | draw nothing\n",
    "''                 | draw nothing\n",
    "\n",
    "Also, don't mix up \".-\" (line with dot markers) and \"-.\" (dash-dot line) when using the plot or scatter functions."
   ]
  },
  {
   "cell_type": "code",
   "execution_count": null,
   "metadata": {
    "collapsed": false
   },
   "outputs": [],
   "source": [
    "t = np.arange(0.0, 5.0, 0.2)\n",
    "plt.plot(t, t, '-', t, t**2, '--', t, t**3, '-.', t, -t, ':')\n",
    "plt.show()"
   ]
  },
  {
   "cell_type": "markdown",
   "metadata": {},
   "source": [
    "It is a bit confusing, but the line styles mentioned above are only valid for lines. Whenever you are dealing with the linestyles of the edges of \"Patch\" objects, you will need to use words instead of the symbols. So \"solid\" instead of \"-\", and \"dashdot\" instead of \"-.\". Hopefully, this issue will be fixed for the v1.5 release and allow these specifications to be used interchangably."
   ]
  },
  {
   "cell_type": "code",
   "execution_count": null,
   "metadata": {
    "collapsed": false
   },
   "outputs": [],
   "source": [
    "fig, ax = plt.subplots(1, 1)\n",
    "ax.bar([1, 2, 3, 4], [10, 20, 15, 13], ls='dashed', ec='r', lw=5)\n",
    "plt.show()"
   ]
  },
  {
   "cell_type": "markdown",
   "metadata": {},
   "source": [
    "# Plot attributes\n",
    "With just about any plot you can make, there are many attributes that can be modified to make the lines and markers suit your needs. Note that for many plotting functions, matplotlib will cycle the colors for each dataset you plot. However, you are free to explicitly state which colors you want used for which plots. For the [`plt.plot()`](http://matplotlib.org/api/pyplot_api.html#matplotlib.pyplot.plot) and [`plt.scatter()`](http://matplotlib.org/api/pyplot_api.html#matplotlib.pyplot.scatter) functions, you can mix the specification for the colors, linestyles, and markers in a single string."
   ]
  },
  {
   "cell_type": "code",
   "execution_count": null,
   "metadata": {
    "collapsed": false
   },
   "outputs": [],
   "source": [
    "t = np.arange(0., 5., 0.2)\n",
    "# red dashes, blue squares and green triangles\n",
    "plt.plot(t, t, 'r--', t, t**2, 'bs', t, t**3, 'g^')\n",
    "plt.show()"
   ]
  },
  {
   "cell_type": "markdown",
   "metadata": {},
   "source": [
    "| Property               | Value Type                                      \n",
    "|------------------------|-------------------------------------------------\n",
    "|alpha                   | float                                           \n",
    "|color or c              | any matplotlib color                            \n",
    "|dash_capstyle           | ['butt', 'round' 'projecting']               \n",
    "|dash_joinstyle          | ['miter' 'round' 'bevel']\n",
    "|dashes                  | sequence of on/off ink in points                \n",
    "|drawstyle               | [ ‘default’ ‘steps’ ‘steps-pre’\n",
    "|                        |   ‘steps-mid’ ‘steps-post’ ]\n",
    "|linestyle or ls         | [ '-' '--' '-.' ':' 'None' ' ' ''] \n",
    "|                        | and any drawstyle in combination with a         \n",
    "|                        | linestyle, e.g. 'steps--'.                      \n",
    "|linewidth or lw         | float value in points                           \n",
    "|marker                  | [ 0 1 2 3 4 5 6 7 'o' 'd' 'D' 'h' 'H'\n",
    "|                        |  '' 'None' ' ' `None` '8' 'p' ','\n",
    "|                        |  '+' 'x' '.' 's' '\\*' '\\_' '&#124;'\n",
    "|                        |  '1' '2' '3' '4' 'v' '<' '>' '^' ]\n",
    "|markeredgecolor or mec  | any matplotlib color\n",
    "|markeredgewidth or mew  | float value in points\n",
    "|markerfacecolor or mfc  | any matplotlib color\n",
    "|markersize or ms        | float\n",
    "|solid_capstyle          | ['butt' 'round' 'projecting']\n",
    "|solid_joinstyle         | ['miter' 'round' 'bevel']\n",
    "|visible                 | [`True` `False`]\n",
    "|zorder                  | any number\n",
    "\n",
    "## Exercise 2.3\n",
    "Make a plot that has a dotted red line, with large yellow diamond markers that have a green edge"
   ]
  },
  {
   "cell_type": "code",
   "execution_count": null,
   "metadata": {
    "collapsed": false
   },
   "outputs": [],
   "source": [
    "%load exercises/2.3-properties.py"
   ]
  },
  {
   "cell_type": "markdown",
   "metadata": {},
   "source": [
    "# Colormaps\n",
    "Another very important property of many figures is the colormap. The job of a colormap is to relate a scalar value to a color. In addition to the regular portion of the colormap, an \"over\", \"under\" and \"bad\" color can be optionally defined as well. NaNs will trigger the \"bad\" part of the colormap.\n",
    "\n",
    "As we all know, we create figures in order to convey information visually to our readers. There is much care and consideration that have gone into the design of these colormaps. Your choice in which colormap to use depends on what you are displaying. In mpl, the \"jet\" colormap is used by default, but it will often not be the colormap you would want to use. Much discussion has taken place on the mailing lists with regards to what colormap should be default. Ultimately, it doesn't really matter what the default colormap will be because an arbitrary colormap will be a poor choice for many datasets.\n",
    "\n",
    "I want to acknowedge Nicolas Rougier and Tony Yu for putting significant effort in educating users in proper colormap selections. Here is the full gallery of all the pre-defined colormaps, organized by the types of data they are usually used for."
   ]
  },
  {
   "cell_type": "code",
   "execution_count": null,
   "metadata": {
    "collapsed": false
   },
   "outputs": [],
   "source": [
    "%load http://matplotlib.org/mpl_examples/color/colormaps_reference.py  # For those with v1.2 or higher"
   ]
  },
  {
   "cell_type": "code",
   "execution_count": null,
   "metadata": {
    "collapsed": false
   },
   "outputs": [],
   "source": [
    "\"\"\"\n",
    "Reference for colormaps included with Matplotlib.\n",
    "\n",
    "This reference example shows all colormaps included with Matplotlib. Note that\n",
    "any colormap listed here can be reversed by appending \"_r\" (e.g., \"pink_r\").\n",
    "These colormaps are divided into the following categories:\n",
    "\n",
    "Sequential:\n",
    "    These colormaps are approximately monochromatic colormaps varying smoothly\n",
    "    between two color tones---usually from low saturation (e.g. white) to high\n",
    "    saturation (e.g. a bright blue). Sequential colormaps are ideal for\n",
    "    representing most scientific data since they show a clear progression from\n",
    "    low-to-high values.\n",
    "\n",
    "Diverging:\n",
    "    These colormaps have a median value (usually light in color) and vary\n",
    "    smoothly to two different color tones at high and low values. Diverging\n",
    "    colormaps are ideal when your data has a median value that is significant\n",
    "    (e.g.  0, such that positive and negative values are represented by\n",
    "    different colors of the colormap).\n",
    "\n",
    "Qualitative:\n",
    "    These colormaps vary rapidly in color. Qualitative colormaps are useful for\n",
    "    choosing a set of discrete colors. For example::\n",
    "\n",
    "        color_list = plt.cm.Set3(np.linspace(0, 1, 12))\n",
    "\n",
    "    gives a list of RGB colors that are good for plotting a series of lines on\n",
    "    a dark background.\n",
    "\n",
    "Miscellaneous:\n",
    "    Colormaps that don't fit into the categories above.\n",
    "\n",
    "\"\"\"\n",
    "import numpy as np\n",
    "import matplotlib.pyplot as plt\n",
    "\n",
    "\n",
    "cmaps = [('Sequential',     ['binary', 'Blues', 'BuGn', 'BuPu', 'gist_yarg',\n",
    "                             'GnBu', 'Greens', 'Greys', 'Oranges', 'OrRd',\n",
    "                             'PuBu', 'PuBuGn', 'PuRd', 'Purples', 'RdPu',\n",
    "                             'Reds', 'YlGn', 'YlGnBu', 'YlOrBr', 'YlOrRd']),\n",
    "         ('Sequential (2)', ['afmhot', 'autumn', 'bone', 'cool', 'copper',\n",
    "                             'gist_gray', 'gist_heat', 'gray', 'hot', 'pink',\n",
    "                             'spring', 'summer', 'winter']),\n",
    "         ('Diverging',      ['BrBG', 'bwr', 'coolwarm', 'PiYG', 'PRGn', 'PuOr',\n",
    "                             'RdBu', 'RdGy', 'RdYlBu', 'RdYlGn', 'seismic']),\n",
    "         ('Qualitative',    ['Accent', 'Dark2', 'hsv', 'Paired', 'Pastel1',\n",
    "                             'Pastel2', 'Set1', 'Set2', 'Set3', 'spectral']),\n",
    "         ('Miscellaneous',  ['gist_earth', 'gist_ncar', 'gist_rainbow',\n",
    "                             'gist_stern', 'jet', 'brg', 'CMRmap', 'cubehelix',\n",
    "                             'gnuplot', 'gnuplot2', 'ocean', 'rainbow',\n",
    "                             'terrain', 'flag', 'prism'])]\n",
    "\n",
    "\n",
    "nrows = max(len(cmap_list) for cmap_category, cmap_list in cmaps)\n",
    "gradient = np.linspace(0, 1, 256)\n",
    "gradient = np.vstack((gradient, gradient))\n",
    "\n",
    "def plot_color_gradients(cmap_category, cmap_list):\n",
    "    fig, axes = plt.subplots(nrows=nrows)\n",
    "    fig.subplots_adjust(top=0.95, bottom=0.01, left=0.2, right=0.99)\n",
    "    axes[0].set_title(cmap_category + ' colormaps', fontsize=14)\n",
    "\n",
    "    for ax, name in zip(axes, cmap_list):\n",
    "        ax.imshow(gradient, aspect='auto', cmap=plt.get_cmap(name))\n",
    "        pos = list(ax.get_position().bounds)\n",
    "        x_text = pos[0] - 0.01\n",
    "        y_text = pos[1] + pos[3]/2.\n",
    "        fig.text(x_text, y_text, name, va='center', ha='right', fontsize=10)\n",
    "\n",
    "    # Turn off *all* ticks & spines, not just the ones with colormaps.\n",
    "    for ax in axes:\n",
    "        ax.set_axis_off()\n",
    "\n",
    "for cmap_category, cmap_list in cmaps:\n",
    "    plot_color_gradients(cmap_category, cmap_list)\n",
    "\n",
    "plt.show()\n"
   ]
  },
  {
   "cell_type": "markdown",
   "metadata": {},
   "source": [
    "When colormaps are created in mpl, they get \"registered\" with a name. This allows one to specify a colormap to use by name."
   ]
  },
  {
   "cell_type": "code",
   "execution_count": null,
   "metadata": {
    "collapsed": false
   },
   "outputs": [],
   "source": [
    "fig, (ax1, ax2) = plt.subplots(1, 2)\n",
    "z = np.random.random((10, 10))\n",
    "ax1.imshow(z, interpolation='none', cmap='gray')\n",
    "ax2.imshow(z, interpolation='none', cmap='coolwarm')\n",
    "plt.show()"
   ]
  },
  {
   "cell_type": "markdown",
   "metadata": {},
   "source": [
    "# Mathtext\n",
    "Oftentimes, you just simply need that superscript or some other math text in your labels. Matplotlib provides a very easy way to do this for those familiar with LaTeX. Any text that is surrounded by dollar signs will be treated as \"[mathtext](http://matplotlib.org/users/mathtext.html#mathtext-tutorial)\". Do note that because backslashes are prevelent in LaTeX, it is often a good idea to prepend an `r` to your string literal so that Python will not treat the backslashes as escape characters."
   ]
  },
  {
   "cell_type": "code",
   "execution_count": null,
   "metadata": {
    "collapsed": false
   },
   "outputs": [],
   "source": [
    "plt.scatter([1, 2, 3, 4], [4, 3, 2, 1])\n",
    "plt.title(r'$\\sigma_i=15$', fontsize=20)\n",
    "plt.show()"
   ]
  },
  {
   "cell_type": "markdown",
   "metadata": {},
   "source": [
    "# Annotations and Arrows\n",
    "There are two ways one can place arbitrary text anywhere they want on a plot. The first is a simple [`text()`](http://matplotlib.org/api/pyplot_api.html#matplotlib.pyplot.text).  Then there is the fancier [`annotate()`](http://matplotlib.org/api/pyplot_api.html#matplotlib.pyplot.annotate) function that can help \"point out\" what you want to annotate."
   ]
  },
  {
   "cell_type": "code",
   "execution_count": null,
   "metadata": {
    "collapsed": false
   },
   "outputs": [],
   "source": [
    "t = np.arange(0.0, 5.0, 0.01)\n",
    "s = np.cos(2*np.pi*t)\n",
    "plt.plot(t, s, lw=2)\n",
    "\n",
    "plt.annotate('local max', xy=(2, 1), xytext=(3, 1.5),\n",
    "             arrowprops=dict(facecolor='black', shrink=0.05))\n",
    "\n",
    "plt.ylim(-2, 2)\n",
    "plt.show()"
   ]
  },
  {
   "cell_type": "markdown",
   "metadata": {},
   "source": [
    "There are all sorts of boxes for your text, and arrows you can use, and there are many different ways to connect the text to the point that you want to annotate. For a complete tutorial on this topic, go to the [Annotation Guide](http://matplotlib.org/users/annotations_guide.html). In the meantime, here is a table of the kinds of arrows that can be drawn "
   ]
  },
  {
   "cell_type": "code",
   "execution_count": null,
   "metadata": {
    "collapsed": false
   },
   "outputs": [],
   "source": [
    "import matplotlib.patches as mpatches\n",
    "\n",
    "styles = mpatches.ArrowStyle.get_styles()\n",
    "\n",
    "ncol=2\n",
    "nrow = (len(styles)+1) // ncol\n",
    "figheight = (nrow+0.5)\n",
    "fig = plt.figure(1, (4.0*ncol/0.85, figheight/0.85))\n",
    "fontsize = 0.4 * 70\n",
    "\n",
    "ax = fig.add_axes([0, 0, 1, 1])\n",
    "ax.set_xlim(0, 4*ncol)\n",
    "ax.set_ylim(0, figheight)\n",
    "\n",
    "def to_texstring(s):\n",
    "    s = s.replace(\"<\", r\"$<$\")\n",
    "    s = s.replace(\">\", r\"$>$\")\n",
    "    s = s.replace(\"|\", r\"$|$\")\n",
    "    return s\n",
    "\n",
    "for i, (stylename, styleclass) in enumerate(sorted(styles.items())):\n",
    "    x = 3.2 + (i//nrow)*4\n",
    "    y = (figheight - 0.7 - i%nrow)\n",
    "    p = mpatches.Circle((x, y), 0.2, fc=\"w\")\n",
    "    ax.add_patch(p)\n",
    "\n",
    "    ax.annotate(to_texstring(stylename), (x, y),\n",
    "                (x-1.2, y),\n",
    "                ha=\"right\", va=\"center\",\n",
    "                size=fontsize,\n",
    "                arrowprops=dict(arrowstyle=stylename,\n",
    "                                patchB=p,\n",
    "                                shrinkA=50,\n",
    "                                shrinkB=5,\n",
    "                                fc=\"w\", ec=\"k\",\n",
    "                                connectionstyle=\"arc3,rad=-0.25\",\n",
    "                                ),\n",
    "                bbox=dict(boxstyle=\"square\", fc=\"w\"))\n",
    "\n",
    "ax.set_axis_off()\n",
    "plt.show()\n"
   ]
  },
  {
   "cell_type": "markdown",
   "metadata": {},
   "source": [
    "## Exercise 2.4\n",
    "Point out a local minimum with a fancy red arrow."
   ]
  },
  {
   "cell_type": "code",
   "execution_count": null,
   "metadata": {
    "collapsed": false
   },
   "outputs": [],
   "source": [
    "%load exercises/2.4-arrows.py"
   ]
  },
  {
   "cell_type": "markdown",
   "metadata": {},
   "source": [
    "# Hatches\n",
    "A Patch object can have a hatching defined for it.\n",
    "\n",
    "* /   - diagonal hatching\n",
    "* \\   - back diagonal\n",
    "* |   - vertical\n",
    "* \\-   - horizontal\n",
    "* \\+   - crossed\n",
    "* x   - crossed diagonal\n",
    "* o   - small circle\n",
    "* O   - large circle (upper-case 'o')\n",
    "* .   - dots\n",
    "* \\*   - stars\n",
    "     \n",
    "Letters can be combined, in which case all the specified\n",
    "hatchings are done.  If same letter repeats, it increases the\n",
    "density of hatching of that pattern."
   ]
  },
  {
   "cell_type": "code",
   "execution_count": null,
   "metadata": {
    "collapsed": false
   },
   "outputs": [],
   "source": [
    "bars = plt.bar([1, 2, 3, 4], [10, 12, 15, 17])\n",
    "plt.setp(bars[0], hatch='x', facecolor='w')\n",
    "plt.show()"
   ]
  },
  {
   "cell_type": "markdown",
   "metadata": {},
   "source": [
    "# Transforms\n",
    "The topic of transforms in matplotlib, that is the ability to map the coordinates specified by your data to the coordinates of your figure, is very advanced and will not be covered in this tutorial. For those who are interested in learning about them, see the [transformation tutorial](http://matplotlib.org/users/transforms_tutorial.html). For those who are really daring, there are the developer guides to [transforms](http://matplotlib.org/devel/transformations.html) and [scales](http://matplotlib.org/devel/add_new_projection.html). While most users will never, ever need to understand matplotlib transforms to the level described in those links, it is important to be aware of them, and their critical role in figure-making.\n",
    "\n",
    "In a figure, there are four coordinate systems: *display*, *figure*, *axes*, and *data*. Transforms are used to convert coordinates in one system into another system for various uses. This is how matplotlib knows exactly where to place the ticks and ticklabels, even when you change the axis limits. The ticker says that the tick and label \"1.5\", for example, are to go at data x-coordinate 1.5. The transform says that location is at 0.4 in axes x-coordinate space. Meanwhile, the xlabel of \"Distance\" is placed at axes x-coordinate space of 0.5 (half-way). Meanwhile, a legend might be placed at a location relative to the figure coordinates.\n",
    "\n",
    "Furthermore, the transform system is what is used to allow various scales to work, such as log scales. The transform system is what is used to make the polar plots work seamlessly. Whether you realize it or not, you use the transforms system in matplotlib all the time. Everything drawn in matplotlib has a transform associated with it. Most of the time, you will never notice this, and will happily operate within the *data* coordinate system. But when you want to do some more advanced plots, with some eye-catching visual tricks, the transform system will be there for you."
   ]
  },
  {
   "cell_type": "markdown",
   "metadata": {},
   "source": [
    "# Managing the unmanagable -- Introducing matplotlibrc\n",
    "Matplotlib's greatest strength is its ability to give you complete control over every single aspect of your plots and figures. Matplotlib's second greatest strength is its ability to take as much control over as much of your plots and figures as you want. You, as the user, would never consider to use matplotlib if you had to specify all of these things for every single plot. Most of the time, the defaults are exactly what you want them to be.\n",
    "\n",
    "Matplotlib uses the matplotlibrc configuration file to define the plethora of defaults found in matplotlib. You can control the defaults of almost every property in matplotlib: figure size and dpi, line width, color and style, axes, axis and grid properties, text and font properties and so on. Just modify your rc file and re-run your scripts to produce your improved figures.\n",
    "\n",
    "To display where the currently active matplotlibrc file was loaded from, one can do the following:"
   ]
  },
  {
   "cell_type": "code",
   "execution_count": null,
   "metadata": {
    "collapsed": false
   },
   "outputs": [],
   "source": [
    "import matplotlib\n",
    "print(matplotlib.matplotlib_fname())"
   ]
  },
  {
   "cell_type": "markdown",
   "metadata": {},
   "source": [
    "You can also change the rc settings during runtime within a python script or interactively from the python shell. All of the rc settings are stored in a dictionary-like variable called [`matplotlib.rcParams`](http://matplotlib.org/api/matplotlib_configuration_api.html#matplotlib.matplotlib.rcParams), which is global to the matplotlib package. `rcParams` can be modified directly. Newer versions of matplotlib can use [`rc()`](http://matplotlib.org/api/matplotlib_configuration_api.html#matplotlib.rc), for example:"
   ]
  },
  {
   "cell_type": "code",
   "execution_count": null,
   "metadata": {
    "collapsed": false
   },
   "outputs": [],
   "source": [
    "import matplotlib as mpl\n",
    "import matplotlib.pyplot as plt\n",
    "mpl.rcdefaults()  # for when re-running this cell\n",
    "\n",
    "fig, (ax1, ax2) = plt.subplots(1, 2)\n",
    "ax1.plot([1, 2, 3, 4])\n",
    "\n",
    "mpl.rc('lines', linewidth=2, linestyle='-.')\n",
    "# Equivalent older, but still valid syntax\n",
    "#mpl.rcParams['lines.linewidth'] = 2\n",
    "#mpl.rcParams['lines.linestyle'] = '-.'\n",
    "ax2.plot([1, 2, 3, 4])\n",
    "plt.show()"
   ]
  },
  {
   "cell_type": "markdown",
   "metadata": {},
   "source": [
    "To learn more, please see this guide on [customizing matplotlib](http://matplotlib.org/users/customizing.html)."
   ]
  }
 ],
 "metadata": {
  "kernelspec": {
   "display_name": "Python 2",
   "language": "python",
   "name": "python2"
  },
  "language_info": {
   "codemirror_mode": {
    "name": "ipython",
    "version": 2
   },
   "file_extension": ".py",
   "mimetype": "text/x-python",
   "name": "python",
   "nbconvert_exporter": "python",
   "pygments_lexer": "ipython2",
   "version": "2.7.10"
  }
 },
 "nbformat": 4,
 "nbformat_minor": 0
}
